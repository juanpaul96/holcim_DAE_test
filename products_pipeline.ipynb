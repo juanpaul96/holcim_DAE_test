{
 "cells": [
  {
   "cell_type": "code",
   "execution_count": 10,
   "id": "64f4d5bd-f874-4f38-ab83-52ab36ba1bc4",
   "metadata": {},
   "outputs": [],
   "source": [
    "import pandas as pd\n",
    "\n",
    "# Importing data\n",
    "product_sales_url = 'https://raw.githubusercontent.com/juanpaul96/holcim_DAE_test/main/product_sales_sample.csv'\n",
    "product_sales_raw = pd.read_csv(product_sales_url)"
   ]
  },
  {
   "cell_type": "code",
   "execution_count": 11,
   "id": "aee34494-ed97-45ef-8137-f345d4ca9141",
   "metadata": {},
   "outputs": [],
   "source": [
    "########## Data Exploration ##########\n",
    "\n",
    "#Here I'm checking things like: data types and fixing them, count of rows, checking for duplicates, \n",
    "# and I'm doing a QA to check data consistency in sales and quantity."
   ]
  },
  {
   "cell_type": "code",
   "execution_count": 12,
   "id": "761c7bee-b512-4181-9bab-c2827309afe8",
   "metadata": {},
   "outputs": [
    {
     "name": "stdout",
     "output_type": "stream",
     "text": [
      "Dataset columns type:\n",
      " Rest Owner                                  object\n",
      "Rest Coop                                   object\n",
      "REST_KEY                                     int64\n",
      "MITM_KEY                                     int64\n",
      "Menu Item                                   object\n",
      "Menu Item Combo Meal Flag                   object\n",
      "Reporting Day                               object\n",
      "POS Consumer Price                         float64\n",
      "POS Total Units Sold  Promo and Regular      int64\n",
      "POS Promotion Units Sold                     int64\n",
      "POS Units Sold                               int64\n",
      "POS Combo Units Sold                         int64\n",
      "dtype: object\n"
     ]
    }
   ],
   "source": [
    "# Check initial data types\n",
    "print(\"Dataset columns type:\\n\", product_sales_raw.dtypes)"
   ]
  },
  {
   "cell_type": "code",
   "execution_count": 17,
   "id": "ee5a2b44-327b-44a2-86e4-2a3204328970",
   "metadata": {},
   "outputs": [
    {
     "name": "stderr",
     "output_type": "stream",
     "text": [
      "/tmp/ipykernel_2862/1227641196.py:7: UserWarning: Could not infer format, so each element will be parsed individually, falling back to `dateutil`. To ensure parsing is consistent and as-expected, please specify a format.\n",
      "  products_datatypes['Reporting Day'] = pd.to_datetime(\n"
     ]
    },
    {
     "data": {
      "text/html": [
       "<div>\n",
       "<style scoped>\n",
       "    .dataframe tbody tr th:only-of-type {\n",
       "        vertical-align: middle;\n",
       "    }\n",
       "\n",
       "    .dataframe tbody tr th {\n",
       "        vertical-align: top;\n",
       "    }\n",
       "\n",
       "    .dataframe thead th {\n",
       "        text-align: right;\n",
       "    }\n",
       "</style>\n",
       "<table border=\"1\" class=\"dataframe\">\n",
       "  <thead>\n",
       "    <tr style=\"text-align: right;\">\n",
       "      <th></th>\n",
       "      <th>rest_owner</th>\n",
       "      <th>rest_coop</th>\n",
       "      <th>rest_key</th>\n",
       "      <th>mitm_key</th>\n",
       "      <th>menu_item</th>\n",
       "      <th>combo_meal_flag</th>\n",
       "      <th>reporting_day</th>\n",
       "      <th>consumer_price</th>\n",
       "      <th>total_and_promo_flag</th>\n",
       "      <th>promo_units_sold</th>\n",
       "      <th>regular_units_sold</th>\n",
       "      <th>combo_units_sold</th>\n",
       "    </tr>\n",
       "  </thead>\n",
       "  <tbody>\n",
       "    <tr>\n",
       "      <th>0</th>\n",
       "      <td>SMITH JOE</td>\n",
       "      <td>SEA/TCA WA CP-0024</td>\n",
       "      <td>1364</td>\n",
       "      <td>1</td>\n",
       "      <td>00000001-REUBEN</td>\n",
       "      <td>N</td>\n",
       "      <td>2011-01-01</td>\n",
       "      <td>0.95</td>\n",
       "      <td>25</td>\n",
       "      <td>0</td>\n",
       "      <td>25</td>\n",
       "      <td>6</td>\n",
       "    </tr>\n",
       "    <tr>\n",
       "      <th>1</th>\n",
       "      <td>SMITH JOE</td>\n",
       "      <td>SEA/TCA WA CP-0024</td>\n",
       "      <td>5357</td>\n",
       "      <td>1</td>\n",
       "      <td>00000001-REUBEN</td>\n",
       "      <td>N</td>\n",
       "      <td>2011-01-01</td>\n",
       "      <td>0.95</td>\n",
       "      <td>10</td>\n",
       "      <td>0</td>\n",
       "      <td>10</td>\n",
       "      <td>1</td>\n",
       "    </tr>\n",
       "    <tr>\n",
       "      <th>2</th>\n",
       "      <td>SMITH JOE</td>\n",
       "      <td>SEA/TCA WA CP-0024</td>\n",
       "      <td>13369</td>\n",
       "      <td>1</td>\n",
       "      <td>00000001-REUBEN</td>\n",
       "      <td>N</td>\n",
       "      <td>2011-01-01</td>\n",
       "      <td>0.95</td>\n",
       "      <td>9</td>\n",
       "      <td>0</td>\n",
       "      <td>9</td>\n",
       "      <td>3</td>\n",
       "    </tr>\n",
       "    <tr>\n",
       "      <th>3</th>\n",
       "      <td>SMITH JOE</td>\n",
       "      <td>SEA/TCA WA CP-0024</td>\n",
       "      <td>13604</td>\n",
       "      <td>1</td>\n",
       "      <td>00000001-REUBEN</td>\n",
       "      <td>N</td>\n",
       "      <td>2011-01-01</td>\n",
       "      <td>0.95</td>\n",
       "      <td>24</td>\n",
       "      <td>0</td>\n",
       "      <td>24</td>\n",
       "      <td>4</td>\n",
       "    </tr>\n",
       "    <tr>\n",
       "      <th>4</th>\n",
       "      <td>SMITH JOE</td>\n",
       "      <td>SEA/TCA WA CP-0024</td>\n",
       "      <td>1364</td>\n",
       "      <td>1</td>\n",
       "      <td>00000001-REUBEN</td>\n",
       "      <td>N</td>\n",
       "      <td>2011-01-02</td>\n",
       "      <td>0.95</td>\n",
       "      <td>28</td>\n",
       "      <td>0</td>\n",
       "      <td>28</td>\n",
       "      <td>4</td>\n",
       "    </tr>\n",
       "  </tbody>\n",
       "</table>\n",
       "</div>"
      ],
      "text/plain": [
       "  rest_owner           rest_coop  rest_key  mitm_key        menu_item  \\\n",
       "0  SMITH JOE  SEA/TCA WA CP-0024      1364         1  00000001-REUBEN   \n",
       "1  SMITH JOE  SEA/TCA WA CP-0024      5357         1  00000001-REUBEN   \n",
       "2  SMITH JOE  SEA/TCA WA CP-0024     13369         1  00000001-REUBEN   \n",
       "3  SMITH JOE  SEA/TCA WA CP-0024     13604         1  00000001-REUBEN   \n",
       "4  SMITH JOE  SEA/TCA WA CP-0024      1364         1  00000001-REUBEN   \n",
       "\n",
       "  combo_meal_flag reporting_day  consumer_price  total_and_promo_flag  \\\n",
       "0               N    2011-01-01            0.95                    25   \n",
       "1               N    2011-01-01            0.95                    10   \n",
       "2               N    2011-01-01            0.95                     9   \n",
       "3               N    2011-01-01            0.95                    24   \n",
       "4               N    2011-01-02            0.95                    28   \n",
       "\n",
       "   promo_units_sold  regular_units_sold  combo_units_sold  \n",
       "0                 0                  25                 6  \n",
       "1                 0                  10                 1  \n",
       "2                 0                   9                 3  \n",
       "3                 0                  24                 4  \n",
       "4                 0                  28                 4  "
      ]
     },
     "execution_count": 17,
     "metadata": {},
     "output_type": "execute_result"
    }
   ],
   "source": [
    "import pandas as pd\n",
    "\n",
    "# Copy the raw DataFrame\n",
    "products_datatypes = product_sales_raw.copy()\n",
    "\n",
    "# Convert the date column to datetime\n",
    "products_datatypes['Reporting Day'] = pd.to_datetime(\n",
    "    products_datatypes['Reporting Day'],\n",
    "    errors='coerce'\n",
    ")\n",
    "\n",
    "# Coerce numeric columns (using the exact names from df.columns)\n",
    "numeric_cols = [\n",
    "    'REST_KEY',\n",
    "    'MITM_KEY',\n",
    "    'POS Consumer Price',\n",
    "    'POS Total Units Sold  Promo and Regular',\n",
    "    'POS Promotion Units Sold',\n",
    "    'POS Units Sold',\n",
    "    'POS Combo Units Sold',\n",
    "]\n",
    "for col in numeric_cols:\n",
    "    products_datatypes[col] = pd.to_numeric(\n",
    "        products_datatypes[col],\n",
    "        errors='coerce'\n",
    "    )\n",
    "\n",
    "# Standardize all column names to snake_case\n",
    "products_datatypes.columns = (\n",
    "    products_datatypes.columns\n",
    "      .str.strip()\n",
    "      .str.lower()\n",
    "      .str.replace(\" \", \"_\")\n",
    "      .str.replace(\"$\", \"\", regex=False)\n",
    ")\n",
    "\n",
    "# Rename for clarity\n",
    "products_datatypes.rename(columns={\n",
    "    'rest_key':                   'rest_key',\n",
    "    'mitm_key':                   'mitm_key',\n",
    "    'pos_consumer_price':         'consumer_price',\n",
    "    'pos_total_units_sold__promo_and_regular': 'total_and_promo_flag',\n",
    "    'pos_promotion_units_sold':   'promo_units_sold',\n",
    "    'pos_units_sold':             'regular_units_sold',\n",
    "    'pos_combo_units_sold':       'combo_units_sold',\n",
    "    'menu_item_combo_meal_flag':  'combo_meal_flag'\n",
    "}, inplace=True)\n",
    "\n",
    "# Peek at the result\n",
    "products_datatypes.head()\n"
   ]
  },
  {
   "cell_type": "code",
   "execution_count": 18,
   "id": "334f6364-179e-4817-be14-e46f6184edcd",
   "metadata": {},
   "outputs": [
    {
     "name": "stdout",
     "output_type": "stream",
     "text": [
      "Dataset columns type:\n",
      " rest_owner                      object\n",
      "rest_coop                       object\n",
      "rest_key                         int64\n",
      "mitm_key                         int64\n",
      "menu_item                       object\n",
      "combo_meal_flag                 object\n",
      "reporting_day           datetime64[ns]\n",
      "consumer_price                 float64\n",
      "total_and_promo_flag             int64\n",
      "promo_units_sold                 int64\n",
      "regular_units_sold               int64\n",
      "combo_units_sold                 int64\n",
      "dtype: object\n"
     ]
    }
   ],
   "source": [
    "print(\"Dataset columns type:\\n\", products_datatypes.dtypes)"
   ]
  },
  {
   "cell_type": "code",
   "execution_count": 20,
   "id": "70a206c2-5229-4f3e-915f-b2da842b4cd7",
   "metadata": {},
   "outputs": [
    {
     "data": {
      "text/plain": [
       "min   2011-01-01\n",
       "max   2011-01-31\n",
       "Name: reporting_day, dtype: datetime64[ns]"
      ]
     },
     "execution_count": 20,
     "metadata": {},
     "output_type": "execute_result"
    }
   ],
   "source": [
    "products_datatypes[\"reporting_day\"].agg(['min','max'])"
   ]
  },
  {
   "cell_type": "code",
   "execution_count": 22,
   "id": "5b1b2eef-1ccf-475d-9373-4184f5e9e9a7",
   "metadata": {},
   "outputs": [
    {
     "data": {
      "text/html": [
       "<div>\n",
       "<style scoped>\n",
       "    .dataframe tbody tr th:only-of-type {\n",
       "        vertical-align: middle;\n",
       "    }\n",
       "\n",
       "    .dataframe tbody tr th {\n",
       "        vertical-align: top;\n",
       "    }\n",
       "\n",
       "    .dataframe thead th {\n",
       "        text-align: right;\n",
       "    }\n",
       "</style>\n",
       "<table border=\"1\" class=\"dataframe\">\n",
       "  <thead>\n",
       "    <tr style=\"text-align: right;\">\n",
       "      <th></th>\n",
       "      <th>missing_reporting_day</th>\n",
       "    </tr>\n",
       "  </thead>\n",
       "  <tbody>\n",
       "  </tbody>\n",
       "</table>\n",
       "</div>"
      ],
      "text/plain": [
       "Empty DataFrame\n",
       "Columns: [missing_reporting_day]\n",
       "Index: []"
      ]
     },
     "execution_count": 22,
     "metadata": {},
     "output_type": "execute_result"
    }
   ],
   "source": [
    "#Checking if there are missing days\n",
    "# Make sure the date column is datetime and normalized to midnight\n",
    "products_datatypes['reporting_day'] = pd.to_datetime(\n",
    "    products_datatypes['reporting_day'], errors='coerce'\n",
    ").dt.normalize()\n",
    "\n",
    "# Build the full expected date range\n",
    "full_range = pd.date_range(\n",
    "    start=products_datatypes['reporting_day'].min(),\n",
    "    end=products_datatypes['reporting_day'].max(),\n",
    "    freq='D'\n",
    ")\n",
    "\n",
    "# Find which dates in that range aren’t present in your data\n",
    "present = products_datatypes['reporting_day'].dropna().unique()\n",
    "missing_days = full_range.difference(present)\n",
    "missing_df = pd.DataFrame({'missing_reporting_day': missing_days})\n",
    "missing_df"
   ]
  },
  {
   "cell_type": "code",
   "execution_count": 23,
   "id": "3014543d-39ff-4d70-ae79-0c5684638eb8",
   "metadata": {},
   "outputs": [
    {
     "name": "stdout",
     "output_type": "stream",
     "text": [
      "Found 0 rows where total_and_promo_flag ≠ promo + regular\n",
      "Empty DataFrame\n",
      "Columns: [menu_item, reporting_day, total_and_promo_flag, sum_promo_plus_regular]\n",
      "Index: []\n"
     ]
    }
   ],
   "source": [
    "# Compute the sum of promo + regular\n",
    "products_datatypes['sum_promo_plus_regular'] = (\n",
    "    products_datatypes['promo_units_sold'].fillna(0) +\n",
    "    products_datatypes['regular_units_sold'].fillna(0)\n",
    ")\n",
    "\n",
    "# Create a boolean check column\n",
    "products_datatypes['check_total_vs_sum'] = (\n",
    "    products_datatypes['total_and_promo_flag'] == \n",
    "    products_datatypes['sum_promo_plus_regular']\n",
    ")\n",
    "\n",
    "# Inspect mismatches\n",
    "mismatches = products_datatypes[~products_datatypes['check_total_vs_sum']]\n",
    "print(f\"Found {len(mismatches)} rows where total_and_promo_flag ≠ promo + regular\")\n",
    "\n",
    "# Show mismatches\n",
    "print(mismatches[['menu_item', 'reporting_day', \n",
    "                  'total_and_promo_flag', 'sum_promo_plus_regular']].head())\n"
   ]
  },
  {
   "cell_type": "code",
   "execution_count": 38,
   "id": "4e813dcf-632a-4011-80f5-c3526dfbcea2",
   "metadata": {},
   "outputs": [],
   "source": [
    "products_datatypes.to_csv('products_silver.csv', index=False)"
   ]
  }
 ],
 "metadata": {
  "kernelspec": {
   "display_name": "anaconda-panel-2023.05-py310",
   "language": "python",
   "name": "conda-env-anaconda-panel-2023.05-py310-py"
  },
  "language_info": {
   "codemirror_mode": {
    "name": "ipython",
    "version": 3
   },
   "file_extension": ".py",
   "mimetype": "text/x-python",
   "name": "python",
   "nbconvert_exporter": "python",
   "pygments_lexer": "ipython3",
   "version": "3.11.5"
  }
 },
 "nbformat": 4,
 "nbformat_minor": 5
}
